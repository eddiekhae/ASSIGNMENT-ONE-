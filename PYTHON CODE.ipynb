{
 "cells": [
  {
   "cell_type": "code",
   "execution_count": 1,
   "id": "92b2fee0-a91a-404a-a3b2-692c6a9142d5",
   "metadata": {},
   "outputs": [
    {
     "name": "stdout",
     "output_type": "stream",
     "text": [
      "{'worker_id': 1, 'name': 'Worker_1', 'salary': 29560, 'employee_level': 'A5-F'}\n",
      "{'worker_id': 2, 'name': 'Worker_2', 'salary': 9979, 'employee_level': 'A5-F'}\n",
      "{'worker_id': 3, 'name': 'Worker_3', 'salary': 7164, 'employee_level': 'Unknown'}\n",
      "{'worker_id': 4, 'name': 'Worker_4', 'salary': 6085, 'employee_level': 'Unknown'}\n",
      "{'worker_id': 5, 'name': 'Worker_5', 'salary': 31224, 'employee_level': 'Unknown'}\n",
      "{'worker_id': 6, 'name': 'Worker_6', 'salary': 10428, 'employee_level': 'A1'}\n",
      "{'worker_id': 7, 'name': 'Worker_7', 'salary': 13062, 'employee_level': 'A1'}\n",
      "{'worker_id': 8, 'name': 'Worker_8', 'salary': 5788, 'employee_level': 'Unknown'}\n",
      "{'worker_id': 9, 'name': 'Worker_9', 'salary': 30774, 'employee_level': 'Unknown'}\n",
      "{'worker_id': 10, 'name': 'Worker_10', 'salary': 11635, 'employee_level': 'A1'}\n"
     ]
    }
   ],
   "source": [
    "#Import the necessary library\n",
    "import random\n",
    "\n",
    "# Generate some constants\n",
    "NUM_WORKERS = 400\n",
    "GENDERS = ['Male', 'Female']\n",
    "\n",
    "# Generate a list of workers\n",
    "workers = []\n",
    "try:\n",
    "    for i in range(1, NUM_WORKERS + 1):\n",
    "        worker = {\n",
    "            'id': i,\n",
    "            'name': f'Worker_{i}',\n",
    "            'gender': random.choice(GENDERS),\n",
    "            'salary': random.randint(5000, 35000)  # Salary between $5,000 and $35,000\n",
    "        }\n",
    "        workers.append(worker)\n",
    "# This code checks the variable (workers) for errors and prints out the kind of error\n",
    "except Exception as e:\n",
    "    print(f\"Error generating workers: {e}\")\n",
    "\n",
    "# Function to determine employee level\n",
    "# Here, we are using the salary and the gender to determine the level of the worker\n",
    "def determine_employee_level(worker):\n",
    "    try:\n",
    "        salary = worker['salary']\n",
    "        gender = worker['gender']\n",
    "        level = 'Unknown'\n",
    "#This line of code helps you to determine the level of the workers based on the criteria given \n",
    "        if 10000 < salary < 20000:\n",
    "            level = 'A1'\n",
    "        if 7500 < salary < 30000 and gender == 'Female':\n",
    "            level = 'A5-F'\n",
    "        \n",
    "        return level\n",
    "#This is the code that checks the error from the variable, (work) that has been generated \n",
    "#If there is an error with the code, the system will print out the error\n",
    "    except KeyError as e:\n",
    "        print(f\"Missing key in worker data: {e}\")\n",
    "        return 'Error'\n",
    "    except Exception as e:\n",
    "        print(f\"Error determining employee level: {e}\")\n",
    "        return 'Error'\n",
    "\n",
    "# Generate payment slips\n",
    "payment_slips = []\n",
    "try:\n",
    "    for worker in workers:\n",
    "        employee_level = determine_employee_level(worker)\n",
    "        payment_slip = {\n",
    "            'worker_id': worker['id'],\n",
    "            'name': worker['name'],\n",
    "            'salary': worker['salary'],\n",
    "            'employee_level': employee_level\n",
    "        }\n",
    "        payment_slips.append(payment_slip)\n",
    "except Exception as e:\n",
    "    print(f\"Error generating payment slips: {e}\")\n",
    "\n",
    "# Print the first few payment slips to verify\n",
    "try:\n",
    "    for slip in payment_slips[:10]:\n",
    "        print(slip)\n",
    "except Exception as e:\n",
    "    print(f\"Error printing payment slips: {e}\")"
   ]
  },
  {
   "cell_type": "code",
   "execution_count": null,
   "id": "145af56e-f465-4ae0-8a31-19210be73f85",
   "metadata": {},
   "outputs": [],
   "source": []
  }
 ],
 "metadata": {
  "kernelspec": {
   "display_name": "Python 3 (ipykernel)",
   "language": "python",
   "name": "python3"
  },
  "language_info": {
   "codemirror_mode": {
    "name": "ipython",
    "version": 3
   },
   "file_extension": ".py",
   "mimetype": "text/x-python",
   "name": "python",
   "nbconvert_exporter": "python",
   "pygments_lexer": "ipython3",
   "version": "3.11.7"
  }
 },
 "nbformat": 4,
 "nbformat_minor": 5
}
